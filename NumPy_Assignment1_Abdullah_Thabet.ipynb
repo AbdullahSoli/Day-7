{
 "cells": [
  {
   "cell_type": "code",
   "execution_count": 195,
   "id": "212fd1ba",
   "metadata": {},
   "outputs": [],
   "source": [
    "import numpy as np"
   ]
  },
  {
   "cell_type": "markdown",
   "id": "10803eb0",
   "metadata": {},
   "source": [
    "## Q#1: Create x array with elements equal to 1."
   ]
  },
  {
   "cell_type": "code",
   "execution_count": 198,
   "id": "3307454f",
   "metadata": {},
   "outputs": [
    {
     "name": "stdout",
     "output_type": "stream",
     "text": [
      "[1. 1. 1. 1. 1.]\n"
     ]
    }
   ],
   "source": [
    "# write your code here ^_^\n",
    "x= np.ones(5)\n",
    "\n",
    "print(x)"
   ]
  },
  {
   "cell_type": "markdown",
   "id": "7795306d",
   "metadata": {},
   "source": [
    "## Q#2: Create y array with elements equal to 0."
   ]
  },
  {
   "cell_type": "code",
   "execution_count": 201,
   "id": "9550b063",
   "metadata": {},
   "outputs": [
    {
     "name": "stdout",
     "output_type": "stream",
     "text": [
      "[0. 0. 0. 0. 0.]\n"
     ]
    }
   ],
   "source": [
    "# write your code here ^_^\n",
    "y = np.zeros(5)\n",
    "print(y)"
   ]
  },
  {
   "cell_type": "markdown",
   "id": "cde6a939",
   "metadata": {},
   "source": [
    "## Q#3: Add x and y arrays."
   ]
  },
  {
   "cell_type": "code",
   "execution_count": 204,
   "id": "71070d1d",
   "metadata": {},
   "outputs": [
    {
     "data": {
      "text/plain": [
       "array([1., 1., 1., 1., 1.])"
      ]
     },
     "execution_count": 204,
     "metadata": {},
     "output_type": "execute_result"
    }
   ],
   "source": [
    "# write your code here ^_^\n",
    "x+y"
   ]
  },
  {
   "cell_type": "markdown",
   "id": "ed854f4c",
   "metadata": {},
   "source": [
    "## Q#4: Print x array characteristics (e.g: dimension, shape, size, type)."
   ]
  },
  {
   "cell_type": "code",
   "execution_count": 207,
   "id": "32627c83",
   "metadata": {},
   "outputs": [
    {
     "name": "stdout",
     "output_type": "stream",
     "text": [
      "Dimenion :  1\n",
      "Shape :  (5,)\n",
      "Size :  5\n",
      "Data Type :  float64\n",
      "Array Type :  <class 'numpy.ndarray'>\n"
     ]
    }
   ],
   "source": [
    "# write your code here ^_^\n",
    "print(\"Dimenion : \",x.ndim)\n",
    "print(\"Shape : \",x.shape)\n",
    "print(\"Size : \",x.size)\n",
    "print(\"Data Type : \",x.dtype)\n",
    "print(\"Array Type : \",type(x))"
   ]
  },
  {
   "cell_type": "markdown",
   "id": "dbd46a73",
   "metadata": {},
   "source": [
    "## Q#5: Create a 2D array \"called w\" as the following:\n",
    "\n",
    "|       |          |\n",
    "| ----- | -------- |\n",
    "| 11    | 12       |\n",
    "| 13    | 14       |\n",
    "| 15    | 16       |\n"
   ]
  },
  {
   "cell_type": "code",
   "execution_count": 210,
   "id": "b9c7bbb0",
   "metadata": {},
   "outputs": [
    {
     "name": "stdout",
     "output_type": "stream",
     "text": [
      "[[11 12]\n",
      " [13 14]\n",
      " [15 16]]\n"
     ]
    }
   ],
   "source": [
    "# write your code here ^_^\n",
    "w = np.array([[11,12],[13,14],[15,16]])\n",
    "print(w)\n"
   ]
  },
  {
   "cell_type": "markdown",
   "id": "0e62bd09",
   "metadata": {},
   "source": [
    "## Q#6: Create z array contains the numbers from 1 to 3."
   ]
  },
  {
   "cell_type": "code",
   "execution_count": 213,
   "id": "cee8aba0",
   "metadata": {},
   "outputs": [
    {
     "name": "stdout",
     "output_type": "stream",
     "text": [
      "[1 2 3]\n"
     ]
    }
   ],
   "source": [
    "# write your code here ^_^\n",
    "z = np.arange(1,4)\n",
    "print(z)"
   ]
  },
  {
   "cell_type": "markdown",
   "id": "32b00711",
   "metadata": {},
   "source": [
    "## Q#7: Combine the arrays z and w in horizontal way then save it in a new variable \"newArray\"."
   ]
  },
  {
   "cell_type": "code",
   "execution_count": 216,
   "id": "d218f892",
   "metadata": {},
   "outputs": [
    {
     "name": "stdout",
     "output_type": "stream",
     "text": [
      "Array z :\n",
      "  [[1]\n",
      " [2]\n",
      " [3]]\n",
      "Array w : \n",
      " [[11 12]\n",
      " [13 14]\n",
      " [15 16]]\n",
      "New Array : \n",
      " [[ 1 11 12]\n",
      " [ 2 13 14]\n",
      " [ 3 15 16]]\n"
     ]
    }
   ],
   "source": [
    "# write your code here ^_^\n",
    "z=z.reshape(-1,1)\n",
    "print(\"Array z :\"\"\\n \",z)\n",
    "print(\"Array w : \"\"\\n\",w)\n",
    "newArray = np.hstack((z, w))\n",
    "\n",
    "print(\"New Array : \" \"\\n\", newArray)\n"
   ]
  },
  {
   "cell_type": "markdown",
   "id": "7e009910",
   "metadata": {},
   "source": [
    "## Q#8: Print all elements of \"newArray\" using the loop."
   ]
  },
  {
   "cell_type": "code",
   "execution_count": 219,
   "id": "abbed923",
   "metadata": {},
   "outputs": [
    {
     "name": "stdout",
     "output_type": "stream",
     "text": [
      "1\n",
      "11\n",
      "12\n",
      "2\n",
      "13\n",
      "14\n",
      "3\n",
      "15\n",
      "16\n"
     ]
    }
   ],
   "source": [
    "# write your code here ^_^\n",
    "for row in newArray :\n",
    "    for element in row:\n",
    "        print(element)"
   ]
  },
  {
   "cell_type": "markdown",
   "id": "011c6d2d",
   "metadata": {},
   "source": [
    "## Q#9: Reverse the columns and rows of \"newArray\"."
   ]
  },
  {
   "cell_type": "code",
   "execution_count": 222,
   "id": "12e3f0db",
   "metadata": {},
   "outputs": [
    {
     "name": "stdout",
     "output_type": "stream",
     "text": [
      "Befor Reverse : \n",
      " [[ 1 11 12]\n",
      " [ 2 13 14]\n",
      " [ 3 15 16]]\n",
      "--------------------------------\n",
      "After Reverse : \n",
      " [[16 15  3]\n",
      " [14 13  2]\n",
      " [12 11  1]]\n"
     ]
    }
   ],
   "source": [
    "# write your code here ^_^\n",
    "print(\"Befor Reverse : \"\"\\n\", newArray)\n",
    "print(\"--------------------------------\")\n",
    "newArray=newArray[::-1,::-1]\n",
    "print(\"After Reverse : \"\"\\n\", newArray)"
   ]
  },
  {
   "cell_type": "markdown",
   "id": "f40b57c3",
   "metadata": {},
   "source": [
    "## Q#10: Decrement all elements of \"newArray\" with 1."
   ]
  },
  {
   "cell_type": "code",
   "execution_count": 225,
   "id": "aea004df",
   "metadata": {},
   "outputs": [
    {
     "name": "stdout",
     "output_type": "stream",
     "text": [
      "Befor Decrement : \n",
      " [[16 15  3]\n",
      " [14 13  2]\n",
      " [12 11  1]]\n",
      "--------------------------------\n",
      "After Decrement : \n",
      " [[15 14  2]\n",
      " [13 12  1]\n",
      " [11 10  0]]\n"
     ]
    }
   ],
   "source": [
    "# write your code here ^_^\n",
    "print(\"Befor Decrement : \"\"\\n\", newArray)\n",
    "print(\"--------------------------------\")\n",
    "newArray -= 1\n",
    "print(\"After Decrement : \"\"\\n\", newArray)"
   ]
  },
  {
   "cell_type": "markdown",
   "id": "8901e8be",
   "metadata": {},
   "source": [
    "## Q#11: Find smallest and biggest values in \"newArray\"."
   ]
  },
  {
   "cell_type": "code",
   "execution_count": 228,
   "id": "4ea08613",
   "metadata": {},
   "outputs": [
    {
     "name": "stdout",
     "output_type": "stream",
     "text": [
      "[[15 14  2]\n",
      " [13 12  1]\n",
      " [11 10  0]]\n",
      "Smallest number : 0\n",
      "Biggest number : 15\n"
     ]
    }
   ],
   "source": [
    "# write your code here ^_^\n",
    "print(newArray)\n",
    "smallnum = np.min(newArray)\n",
    "print (f\"Smallest number : {smallnum}\")\n",
    "bignum = np.max(newArray)\n",
    "print (f\"Biggest number : {bignum}\")\n"
   ]
  },
  {
   "cell_type": "markdown",
   "id": "c5d5d4ca",
   "metadata": {},
   "source": [
    "## Q#12: Print the first row of \"newArray\" using indexing."
   ]
  },
  {
   "cell_type": "code",
   "execution_count": 231,
   "id": "73e3b5a5",
   "metadata": {},
   "outputs": [
    {
     "name": "stdout",
     "output_type": "stream",
     "text": [
      "[[15 14  2]\n",
      " [13 12  1]\n",
      " [11 10  0]]\n",
      "First row :  [15 14  2]\n"
     ]
    }
   ],
   "source": [
    "# write your code here ^_^\n",
    "print(newArray)\n",
    "print(\"First row : \",newArray[0])"
   ]
  },
  {
   "cell_type": "markdown",
   "id": "78f4d6c1",
   "metadata": {},
   "source": [
    "## Q#13: Print the number equals 12 of \"newArray\" using indexing."
   ]
  },
  {
   "cell_type": "code",
   "execution_count": 234,
   "id": "7ad660b7",
   "metadata": {},
   "outputs": [
    {
     "name": "stdout",
     "output_type": "stream",
     "text": [
      "12\n"
     ]
    }
   ],
   "source": [
    "# write your code here ^_^\n",
    "number_12 = newArray[1][1]\n",
    "print(number_12)"
   ]
  },
  {
   "cell_type": "markdown",
   "id": "932b5c3d",
   "metadata": {},
   "source": [
    "## Q#14: Print the numbers equal 0 and 13 of \"newArray\" using indexing."
   ]
  },
  {
   "cell_type": "code",
   "execution_count": 237,
   "id": "31fb5fd0",
   "metadata": {},
   "outputs": [
    {
     "name": "stdout",
     "output_type": "stream",
     "text": [
      "Numbers equal to 0: [0]\n",
      "Numbers equal to 13: [13]\n"
     ]
    }
   ],
   "source": [
    "# write your code here ^_^\n",
    "print(\"Numbers equal to 0:\", newArray[newArray == 0])\n",
    "print(\"Numbers equal to 13:\", newArray[newArray == 13])\n",
    "\n"
   ]
  },
  {
   "cell_type": "markdown",
   "id": "27e0f68e",
   "metadata": {},
   "source": [
    "## Q#15: Change the shape of \"newArray\" to (9,1)."
   ]
  },
  {
   "cell_type": "code",
   "execution_count": 240,
   "id": "35f224ad",
   "metadata": {},
   "outputs": [
    {
     "name": "stdout",
     "output_type": "stream",
     "text": [
      "Befor change the shape : \n",
      " [[15 14  2]\n",
      " [13 12  1]\n",
      " [11 10  0]]\n",
      "--------------------------------\n",
      "After change the shape : \n",
      " [[15]\n",
      " [14]\n",
      " [ 2]\n",
      " [13]\n",
      " [12]\n",
      " [ 1]\n",
      " [11]\n",
      " [10]\n",
      " [ 0]]\n"
     ]
    }
   ],
   "source": [
    "# write your code here ^_^\n",
    "print(\"Befor change the shape : \"\"\\n\",newArray)\n",
    "print(\"--------------------------------\")\n",
    "\n",
    "newArray=newArray.reshape(9,1)\n",
    "print(\"After change the shape : \"\"\\n\",newArray)\n"
   ]
  },
  {
   "cell_type": "markdown",
   "id": "e6d104c5",
   "metadata": {},
   "source": [
    "## Q#16: Change the shape of \"newArray\" to (3,2)."
   ]
  },
  {
   "cell_type": "code",
   "execution_count": 243,
   "id": "724d51d5",
   "metadata": {},
   "outputs": [
    {
     "name": "stdout",
     "output_type": "stream",
     "text": [
      "Befor change the shape : \n",
      " [[15]\n",
      " [14]\n",
      " [ 2]\n",
      " [13]\n",
      " [12]\n",
      " [ 1]\n",
      " [11]\n",
      " [10]\n",
      " [ 0]]\n",
      "--------------------------------\n",
      "After change the shape : \n",
      " [[15 14  2]\n",
      " [13 12  1]\n",
      " [11 10  0]]\n"
     ]
    }
   ],
   "source": [
    "# write your code here ^_^\n",
    "#-- can not change shape from (9,1) to (3,2) becuse first have 9 elements and seconed shape have 6 elements-- \n",
    "print(\"Befor change the shape : \"\"\\n\",newArray)\n",
    "print(\"--------------------------------\")\n",
    "newArray = newArray.reshape(3,3)\n",
    "print(\"After change the shape : \"\"\\n\",newArray)"
   ]
  },
  {
   "cell_type": "markdown",
   "id": "09567fdc",
   "metadata": {},
   "source": [
    "# Well Done 🎉"
   ]
  },
  {
   "cell_type": "code",
   "execution_count": null,
   "id": "402f302d-9b46-4988-a261-6a2200eef411",
   "metadata": {},
   "outputs": [],
   "source": []
  }
 ],
 "metadata": {
  "kernelspec": {
   "display_name": "Python 3 (ipykernel)",
   "language": "python",
   "name": "python3"
  },
  "language_info": {
   "codemirror_mode": {
    "name": "ipython",
    "version": 3
   },
   "file_extension": ".py",
   "mimetype": "text/x-python",
   "name": "python",
   "nbconvert_exporter": "python",
   "pygments_lexer": "ipython3",
   "version": "3.12.4"
  }
 },
 "nbformat": 4,
 "nbformat_minor": 5
}
